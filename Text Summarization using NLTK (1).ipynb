{
 "cells": [
  {
   "cell_type": "markdown",
   "metadata": {},
   "source": [
    "# Taking Input\n",
    "Giving the user two choices of input.\n",
    "They can either paste the URL of a website containing the article like Wikipedia or they can input the text to be summarised through the input field."
   ]
  },
  {
   "cell_type": "code",
   "execution_count": 1,
   "metadata": {},
   "outputs": [
    {
     "name": "stdout",
     "output_type": "stream",
     "text": [
      "Please choose your prefered way to input text.\n",
      "Press 1 to copy paste the URL of a website.\n",
      "Press 2 to input your own text.\n",
      "\n",
      "1\n",
      "Enter the lines you want in the summary.\n",
      "3\n",
      "\n",
      "Please enter the URL:\n",
      "https://en.wikipedia.org/wiki/Car\n"
     ]
    }
   ],
   "source": [
    "print(\"Please choose your prefered way to input text.\\nPress 1 to copy paste the URL of a website.\\nPress 2 to input your own text.\\n\")\n",
    "input_choice = input()\n",
    "summary_size = int(input(\"Enter the lines you want in the summary.\\n\"))\n",
    "if input_choice == \"1\":\n",
    "    url = input(\"\\nPlease enter the URL:\\n\")\n",
    "    #importing the necessary libraries to parse the data from the url\n",
    "    import bs4 as bs\n",
    "    import urllib.request\n",
    "    import re\n",
    "    \n",
    "    #scraping the data from the given url\n",
    "    scraped_data = urllib.request.urlopen(url)\n",
    "    #reading the data from the object returned by the urlopen\n",
    "    article = scraped_data.read()\n",
    "    #parsing the article using BeautifulSoup\n",
    "    parsed_article = bs.BeautifulSoup(article,'lxml')\n",
    "    #using findall function on the object returned by BeautifulSoup to get the paragraphs\n",
    "    paragraphs = parsed_article.find_all('p')\n",
    "    article_text = \"\"\n",
    "    for p in paragraphs:\n",
    "        article_text += p.text\n",
    "else:\n",
    "    article_text = input(\"Please enter your desired text.\\n\")"
   ]
  },
  {
   "cell_type": "markdown",
   "metadata": {},
   "source": [
    "# Processing the input\n",
    "If the input is from a website like wikipedia it might contain references and other text we may not want in our summary, so we are removing it"
   ]
  },
  {
   "cell_type": "code",
   "execution_count": 2,
   "metadata": {},
   "outputs": [],
   "source": [
    "#importing PythonRegex(Regular Expression)\n",
    "import re\n",
    "# Removing Square Brackets and Extra Spaces and replacing them with white spaces\n",
    "article_text = re.sub(r'\\[[0-9]*\\]', ' ', article_text)  \n",
    "article_text = re.sub(r'\\s+', ' ', article_text)  "
   ]
  },
  {
   "cell_type": "code",
   "execution_count": 3,
   "metadata": {},
   "outputs": [],
   "source": [
    "# Removing special characters and digits\n",
    "formatted_article_text = re.sub('[^a-zA-Z]', ' ', article_text )  \n",
    "formatted_article_text = re.sub(r'\\s+', ' ', formatted_article_text)  "
   ]
  },
  {
   "cell_type": "markdown",
   "metadata": {},
   "source": [
    "# Conveting the processed text into sentences "
   ]
  },
  {
   "cell_type": "code",
   "execution_count": 4,
   "metadata": {},
   "outputs": [],
   "source": [
    "import nltk\n",
    "sentence_list = nltk.sent_tokenize(article_text)  "
   ]
  },
  {
   "cell_type": "markdown",
   "metadata": {},
   "source": [
    "# Finding the frequency of occurency of words along with their weights"
   ]
  },
  {
   "cell_type": "code",
   "execution_count": 5,
   "metadata": {},
   "outputs": [],
   "source": [
    "stopwords = nltk.corpus.stopwords.words('english')\n",
    "\n",
    "word_frequencies = {}  \n",
    "for word in nltk.word_tokenize(formatted_article_text):  \n",
    "    if word not in stopwords:\n",
    "        if word not in word_frequencies.keys():\n",
    "            word_frequencies[word] = 1\n",
    "        else:\n",
    "            word_frequencies[word] += 1"
   ]
  },
  {
   "cell_type": "code",
   "execution_count": 6,
   "metadata": {},
   "outputs": [],
   "source": [
    "maximum_frequncy = max(word_frequencies.values())\n",
    "\n",
    "for word in word_frequencies.keys():  \n",
    "    word_frequencies[word] = (word_frequencies[word]/maximum_frequncy)"
   ]
  },
  {
   "cell_type": "markdown",
   "metadata": {},
   "source": [
    "# Calculating the scores of the sentences"
   ]
  },
  {
   "cell_type": "code",
   "execution_count": 7,
   "metadata": {},
   "outputs": [],
   "source": [
    "sentence_scores = {}  \n",
    "for sent in sentence_list:  \n",
    "    for word in nltk.word_tokenize(sent.lower()):\n",
    "        if word in word_frequencies.keys():\n",
    "            if len(sent.split(' ')) < 30:\n",
    "                if sent not in sentence_scores.keys():\n",
    "                    sentence_scores[sent] = word_frequencies[word]\n",
    "                else:\n",
    "                    sentence_scores[sent] += word_frequencies[word]"
   ]
  },
  {
   "cell_type": "markdown",
   "metadata": {},
   "source": [
    "# Getting the Summary"
   ]
  },
  {
   "cell_type": "code",
   "execution_count": 8,
   "metadata": {},
   "outputs": [
    {
     "name": "stdout",
     "output_type": "stream",
     "text": [
      "Car propulsion technologies that are under development include gasoline/electric[citation needed] and plug-in hybrids,[citation needed] battery electric vehicles, wheel hub motors, hydrogen cars, biofuels,[citation needed] and various alternative fuels. A variety of steam-powered road vehicles were used during the first part of the 19th century, including steam cars, steam buses, phaetons, and steam rollers. One of the first cars accessible to the masses was the 1908 Model T, an American car manufactured by the Ford Motor Company.\n"
     ]
    }
   ],
   "source": [
    "import heapq  \n",
    "summary_sentences = heapq.nlargest(summary_size, sentence_scores, key=sentence_scores.get)\n",
    "\n",
    "summary = ' '.join(summary_sentences)  \n",
    "print(summary)  "
   ]
  },
  {
   "cell_type": "code",
   "execution_count": null,
   "metadata": {},
   "outputs": [],
   "source": []
  }
 ],
 "metadata": {
  "kernelspec": {
   "display_name": "Python 3",
   "language": "python",
   "name": "python3"
  },
  "language_info": {
   "codemirror_mode": {
    "name": "ipython",
    "version": 3
   },
   "file_extension": ".py",
   "mimetype": "text/x-python",
   "name": "python",
   "nbconvert_exporter": "python",
   "pygments_lexer": "ipython3",
   "version": "3.7.3"
  }
 },
 "nbformat": 4,
 "nbformat_minor": 2
}
